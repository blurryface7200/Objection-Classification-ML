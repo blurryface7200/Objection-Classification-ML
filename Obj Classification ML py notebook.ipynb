{
  "nbformat": 4,
  "nbformat_minor": 0,
  "metadata": {
    "colab": {
      "provenance": []
    },
    "kernelspec": {
      "name": "python3",
      "display_name": "Python 3"
    },
    "language_info": {
      "name": "python"
    }
  },
  "cells": [
    {
      "cell_type": "code",
      "execution_count": 383,
      "metadata": {
        "id": "QLsLnVVY2cL8"
      },
      "outputs": [],
      "source": [
        "import tensorflow as tf\n",
        "from keras import datasets, models, layers\n",
        "import numpy as np\n",
        "import matplotlib.pyplot as plt"
      ]
    },
    {
      "cell_type": "markdown",
      "source": [
        "Loading the files"
      ],
      "metadata": {
        "id": "2IjcOyfN_IO6"
      }
    },
    {
      "cell_type": "code",
      "source": [
        "trnLabel = np.load(\"/content/trnLabel.npy\")\n",
        "trnImage = np.load(\"/content/trnImage.npy\")\n",
        "tstLabel = np.load(\"/content/tstLabel.npy\")\n",
        "tstImage = np.load(\"/content/tstImage.npy\")\n"
      ],
      "metadata": {
        "id": "Y82zp0OM9bpa"
      },
      "execution_count": 384,
      "outputs": []
    },
    {
      "cell_type": "markdown",
      "source": [
        "Checking out the dimensions of the datasets"
      ],
      "metadata": {
        "id": "D_PGtJLFCAd6"
      }
    },
    {
      "cell_type": "code",
      "source": [
        "tstImage.shape"
      ],
      "metadata": {
        "colab": {
          "base_uri": "https://localhost:8080/"
        },
        "id": "uek5MB-h-sf4",
        "outputId": "14664ceb-7d1d-4f98-ce95-fbf00359b351"
      },
      "execution_count": 385,
      "outputs": [
        {
          "output_type": "execute_result",
          "data": {
            "text/plain": [
              "(32, 32, 3, 1000)"
            ]
          },
          "metadata": {},
          "execution_count": 385
        }
      ]
    },
    {
      "cell_type": "code",
      "source": [
        "trnImage.shape"
      ],
      "metadata": {
        "colab": {
          "base_uri": "https://localhost:8080/"
        },
        "id": "HVs1pYyDAjtU",
        "outputId": "e43f0426-ed53-4049-e4ac-65d13df03bde"
      },
      "execution_count": 386,
      "outputs": [
        {
          "output_type": "execute_result",
          "data": {
            "text/plain": [
              "(32, 32, 3, 10000)"
            ]
          },
          "metadata": {},
          "execution_count": 386
        }
      ]
    },
    {
      "cell_type": "code",
      "source": [
        "tstLabel.shape"
      ],
      "metadata": {
        "colab": {
          "base_uri": "https://localhost:8080/"
        },
        "id": "kqelK-SiAwqp",
        "outputId": "74c0ad2d-4d01-4984-c882-5321688596ee"
      },
      "execution_count": 387,
      "outputs": [
        {
          "output_type": "execute_result",
          "data": {
            "text/plain": [
              "(1000, 1)"
            ]
          },
          "metadata": {},
          "execution_count": 387
        }
      ]
    },
    {
      "cell_type": "code",
      "source": [
        "trnLabel.shape"
      ],
      "metadata": {
        "colab": {
          "base_uri": "https://localhost:8080/"
        },
        "id": "nyXKVD5YA0QC",
        "outputId": "834e0e67-deaa-4fb0-cb04-4dfd6e129a3c"
      },
      "execution_count": 388,
      "outputs": [
        {
          "output_type": "execute_result",
          "data": {
            "text/plain": [
              "(10000, 1)"
            ]
          },
          "metadata": {},
          "execution_count": 388
        }
      ]
    },
    {
      "cell_type": "markdown",
      "source": [
        "Printing out some random images from the dataset"
      ],
      "metadata": {
        "id": "lbJgXY67EJcR"
      }
    },
    {
      "cell_type": "code",
      "source": [
        "category = [\"airplane\",\"automobile\",\"bird\",\"cat\",\"deer\",\"dog\",\"frog\",\"horse\",\"ship\",\"truck\"]\n",
        "#taken from https://www.cs.toronto.edu/~kriz/cifar.html"
      ],
      "metadata": {
        "id": "bMlnvkEUElJW"
      },
      "execution_count": 391,
      "outputs": []
    },
    {
      "cell_type": "code",
      "source": [
        "plt.imshow(trnImage[:, :, :,9999])\n",
        "#trnImage[:, :, :,0].shape"
      ],
      "metadata": {
        "colab": {
          "base_uri": "https://localhost:8080/",
          "height": 283
        },
        "id": "nL0KZ9vZBtNq",
        "outputId": "c321a0ae-4697-482c-8520-64913e2e5c45"
      },
      "execution_count": 392,
      "outputs": [
        {
          "output_type": "execute_result",
          "data": {
            "text/plain": [
              "<matplotlib.image.AxesImage at 0x7ff68baed250>"
            ]
          },
          "metadata": {},
          "execution_count": 392
        },
        {
          "output_type": "display_data",
          "data": {
            "text/plain": [
              "<Figure size 432x288 with 1 Axes>"
            ],
            "image/png": "[encoded data removed]"
          },
          "metadata": {
            "needs_background": "light"
          }
        }
      ]
    },
    {
      "cell_type": "code",
      "source": [
        "category[trnLabel[9000,0]]\n",
        "#checking out what Image is the above picture"
      ],
      "metadata": {
        "colab": {
          "base_uri": "https://localhost:8080/",
          "height": 35
        },
        "id": "ONhoW0FREXPO",
        "outputId": "fbac26f4-3bc0-474c-8dc0-455763f23a80"
      },
      "execution_count": 393,
      "outputs": [
        {
          "output_type": "execute_result",
          "data": {
            "text/plain": [
              "'truck'"
            ],
            "application/vnd.google.colaboratory.intrinsic+json": {
              "type": "string"
            }
          },
          "metadata": {},
          "execution_count": 393
        }
      ]
    },
    {
      "cell_type": "code",
      "source": [
        "plt.imshow(trnImage[:, :, :,2700])"
      ],
      "metadata": {
        "colab": {
          "base_uri": "https://localhost:8080/",
          "height": 283
        },
        "id": "uM7_9-ffERRS",
        "outputId": "acc8f083-c52e-49ab-9939-0b3733a444ae"
      },
      "execution_count": 394,
      "outputs": [
        {
          "output_type": "execute_result",
          "data": {
            "text/plain": [
              "<matplotlib.image.AxesImage at 0x7ff68bac3040>"
            ]
          },
          "metadata": {},
          "execution_count": 394
        },
        {
          "output_type": "display_data",
          "data": {
            "text/plain": [
              "<Figure size 432x288 with 1 Axes>"
            ],
            "image/png": "[encoded data removed]"
          },
          "metadata": {
            "needs_background": "light"
          }
        }
      ]
    },
    {
      "cell_type": "code",
      "source": [
        "category[trnLabel[2700,0]]"
      ],
      "metadata": {
        "colab": {
          "base_uri": "https://localhost:8080/",
          "height": 35
        },
        "id": "EtZ4DC7BFKay",
        "outputId": "62d4600a-52d0-4b11-9ff8-c44c9562ce31"
      },
      "execution_count": 395,
      "outputs": [
        {
          "output_type": "execute_result",
          "data": {
            "text/plain": [
              "'bird'"
            ],
            "application/vnd.google.colaboratory.intrinsic+json": {
              "type": "string"
            }
          },
          "metadata": {},
          "execution_count": 395
        }
      ]
    },
    {
      "cell_type": "markdown",
      "source": [
        "Swapping the axes so that colour channel is at last"
      ],
      "metadata": {
        "id": "HstWbZ7ucIsr"
      }
    },
    {
      "cell_type": "code",
      "source": [
        "trnImageAxesFix1 = np.swapaxes(trnImage, 3, 0)\n"
      ],
      "metadata": {
        "id": "GcUIH2UOQcHz"
      },
      "execution_count": 397,
      "outputs": []
    },
    {
      "cell_type": "code",
      "source": [
        "trnImageAxesFix1.shape"
      ],
      "metadata": {
        "colab": {
          "base_uri": "https://localhost:8080/"
        },
        "id": "Hg30B09_Vo8b",
        "outputId": "64fd1cbe-aa6a-4268-cdff-5a2007118d16"
      },
      "execution_count": 398,
      "outputs": [
        {
          "output_type": "execute_result",
          "data": {
            "text/plain": [
              "(10000, 32, 3, 32)"
            ]
          },
          "metadata": {},
          "execution_count": 398
        }
      ]
    },
    {
      "cell_type": "code",
      "source": [
        "trnImageAxesFix2 = np.swapaxes(trnImageAxesFix1, 2, 3)\n",
        "trnImageAxesFix2.shape"
      ],
      "metadata": {
        "colab": {
          "base_uri": "https://localhost:8080/"
        },
        "id": "lktTETW0SCHC",
        "outputId": "ebc70226-508c-4608-a689-20dda7fccb05"
      },
      "execution_count": 399,
      "outputs": [
        {
          "output_type": "execute_result",
          "data": {
            "text/plain": [
              "(10000, 32, 32, 3)"
            ]
          },
          "metadata": {},
          "execution_count": 399
        }
      ]
    },
    {
      "cell_type": "code",
      "source": [
        "plt.imshow(trnImageAxesFix2[0])"
      ],
      "metadata": {
        "colab": {
          "base_uri": "https://localhost:8080/",
          "height": 283
        },
        "id": "08byfFlZW6UV",
        "outputId": "eb2e85b2-18ac-4361-f0e4-aecce695f899"
      },
      "execution_count": 400,
      "outputs": [
        {
          "output_type": "execute_result",
          "data": {
            "text/plain": [
              "<matplotlib.image.AxesImage at 0x7ff67c333b20>"
            ]
          },
          "metadata": {},
          "execution_count": 400
        },
        {
          "output_type": "display_data",
          "data": {
            "text/plain": [
              "<Figure size 432x288 with 1 Axes>"
            ],
            "image/png": "[encoded data removed]"
          },
          "metadata": {
            "needs_background": "light"
          }
        }
      ]
    },
    {
      "cell_type": "markdown",
      "source": [
        "Building a convolutional neural network using our training dataset"
      ],
      "metadata": {
        "id": "cdg0monbcgSv"
      }
    },
    {
      "cell_type": "code",
      "source": [
        "cnn = models.Sequential([\n",
        "    #cnn layer1\n",
        "    layers.Conv2D(filters=16, kernel_size=(3, 3), activation='relu', input_shape=(32, 32, 3)),\n",
        "    layers.MaxPooling2D(pool_size=(2, 2), strides=1),\n",
        "    \n",
        "    #cnn layer2\n",
        "    layers.Conv2D(filters=32, kernel_size=(3, 3), activation='relu'),\n",
        "    layers.MaxPooling2D((2, 2)),\n",
        "\n",
        "    #cnn layer3\n",
        "    layers.Conv2D(filters=64, kernel_size=(3, 3), activation='relu'),\n",
        "    layers.MaxPooling2D((2, 2)),\n",
        "    \n",
        "    #ann layers\n",
        "    layers.Flatten(),\n",
        "    layers.Dense(128, activation='relu'),\n",
        "    layers.Dense(64, activation='relu'),\n",
        "    layers.Dense(10, activation='softmax')\n",
        "])"
      ],
      "metadata": {
        "id": "uQm4VCO4GBeS"
      },
      "execution_count": 413,
      "outputs": []
    },
    {
      "cell_type": "code",
      "source": [
        "cnn.compile(optimizer='adam', loss='sparse_categorical_crossentropy', metrics='accuracy')"
      ],
      "metadata": {
        "id": "3pAbNMp_WBbJ"
      },
      "execution_count": 414,
      "outputs": []
    },
    {
      "cell_type": "code",
      "source": [
        "cnn.fit(trnImageAxesFix2, trnLabel, epochs=5)"
      ],
      "metadata": {
        "id": "yRx3YF8mLLYC",
        "colab": {
          "base_uri": "https://localhost:8080/"
        },
        "outputId": "0e3fadc5-b33d-4f3d-f703-cfe4f24f194f"
      },
      "execution_count": 415,
      "outputs": [
        {
          "output_type": "stream",
          "name": "stdout",
          "text": [
            "Epoch 1/5\n",
            "313/313 [==============================] - 26s 81ms/step - loss: 1.9599 - accuracy: 0.2688\n",
            "Epoch 2/5\n",
            "313/313 [==============================] - 27s 87ms/step - loss: 1.5396 - accuracy: 0.4392\n",
            "Epoch 3/5\n",
            "313/313 [==============================] - 25s 81ms/step - loss: 1.3829 - accuracy: 0.4981\n",
            "Epoch 4/5\n",
            "313/313 [==============================] - 25s 81ms/step - loss: 1.2791 - accuracy: 0.5380\n",
            "Epoch 5/5\n",
            "313/313 [==============================] - 26s 82ms/step - loss: 1.1656 - accuracy: 0.5791\n"
          ]
        },
        {
          "output_type": "execute_result",
          "data": {
            "text/plain": [
              "<keras.callbacks.History at 0x7ff67befed60>"
            ]
          },
          "metadata": {},
          "execution_count": 415
        }
      ]
    },
    {
      "cell_type": "code",
      "source": [
        "#swapping the axes in test dataset \n",
        "tstImageAxesFix1 = np.swapaxes(tstImage, 3, 0)\n",
        "tstImageAxesFix2 = np.swapaxes(tstImageAxesFix1, 2, 3)\n",
        "tstImageAxesFix2.shape"
      ],
      "metadata": {
        "colab": {
          "base_uri": "https://localhost:8080/"
        },
        "id": "MZzzI15UUKp4",
        "outputId": "f325c276-809c-4246-f777-f1b293d288f2"
      },
      "execution_count": 416,
      "outputs": [
        {
          "output_type": "execute_result",
          "data": {
            "text/plain": [
              "(1000, 32, 32, 3)"
            ]
          },
          "metadata": {},
          "execution_count": 416
        }
      ]
    },
    {
      "cell_type": "code",
      "source": [
        "cnn.evaluate(tstImageAxesFix2, tstLabel)"
      ],
      "metadata": {
        "colab": {
          "base_uri": "https://localhost:8080/"
        },
        "id": "ml5jXEJ5TtN5",
        "outputId": "9f779f88-5ac7-4b1a-8b39-f61ddb0d6945"
      },
      "execution_count": 417,
      "outputs": [
        {
          "output_type": "stream",
          "name": "stdout",
          "text": [
            "32/32 [==============================] - 2s 44ms/step - loss: 1.3394 - accuracy: 0.5310\n"
          ]
        },
        {
          "output_type": "execute_result",
          "data": {
            "text/plain": [
              "[1.3393983840942383, 0.531000018119812]"
            ]
          },
          "metadata": {},
          "execution_count": 417
        }
      ]
    },
    {
      "cell_type": "markdown",
      "source": [
        "The accuracy using our model on the test dataset comes out to be 53.1%"
      ],
      "metadata": {
        "id": "BXNAUaLTdOQw"
      }
    },
    {
      "cell_type": "code",
      "source": [
        "tstLabel_pred = cnn.predict(tstImageAxesFix2)"
      ],
      "metadata": {
        "colab": {
          "base_uri": "https://localhost:8080/"
        },
        "id": "yZDlx4O0WwG1",
        "outputId": "20696d78-635c-477d-f464-e1c6099cb316"
      },
      "execution_count": 418,
      "outputs": [
        {
          "output_type": "stream",
          "name": "stdout",
          "text": [
            "32/32 [==============================] - 1s 21ms/step\n"
          ]
        }
      ]
    },
    {
      "cell_type": "markdown",
      "source": [
        "Finding out the image category index with the max probability in the probability distribution array "
      ],
      "metadata": {
        "id": "Tj3n6dq4e4Ea"
      }
    },
    {
      "cell_type": "code",
      "source": [
        "tstLabel_pred_classes = [np.argmax(x) for x in tstLabel_pred]"
      ],
      "metadata": {
        "id": "GfIsPHFGYaN0"
      },
      "execution_count": 419,
      "outputs": []
    },
    {
      "cell_type": "markdown",
      "source": [
        "Confusion Matrix"
      ],
      "metadata": {
        "id": "Ui2O_lbtWSr2"
      }
    },
    {
      "cell_type": "code",
      "source": [
        "from sklearn.metrics import confusion_matrix\n",
        "cm = confusion_matrix(tstLabel, tstLabel_pred_classes)\n",
        "import seaborn as sn\n",
        "plt.figure(figsize = (10,5))\n",
        "sn.heatmap(cm, annot=True)\n",
        "plt.xlabel('Predicted')\n",
        "plt.ylabel('Ground Truth')\n"
      ],
      "metadata": {
        "id": "sgozDVhOWXIW",
        "outputId": "c96cd884-bc4e-47b7-9457-e13d853d4483",
        "colab": {
          "base_uri": "https://localhost:8080/",
          "height": 351
        }
      },
      "execution_count": 420,
      "outputs": [
        {
          "output_type": "execute_result",
          "data": {
            "text/plain": [
              "Text(69.0, 0.5, 'Ground Truth')"
            ]
          },
          "metadata": {},
          "execution_count": 420
        },
        {
          "output_type": "display_data",
          "data": {
            "text/plain": [
              "<Figure size 720x360 with 2 Axes>"
            ],
            "image/png": "[encoded data removed]"
          },
          "metadata": {
            "needs_background": "light"
          }
        }
      ]
    }
  ]
}